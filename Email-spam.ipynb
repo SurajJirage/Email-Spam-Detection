{
 "cells": [
  {
   "cell_type": "code",
   "execution_count": 5,
   "id": "8c66efcc-c315-474f-82dc-5ce924dc7888",
   "metadata": {},
   "outputs": [],
   "source": [
    "import pandas as pd\n",
    "import string\n",
    "from sklearn.model_selection import train_test_split\n",
    "from sklearn.feature_extraction.text import TfidfVectorizer\n",
    "from sklearn.linear_model import LogisticRegression\n",
    "from sklearn.metrics import accuracy_score"
   ]
  },
  {
   "cell_type": "code",
   "execution_count": null,
   "id": "37b0b033-ef1c-43e8-9a13-62138499be57",
   "metadata": {},
   "outputs": [],
   "source": [
    "# 1. Load the dataset\n",
    "data = pd.read_csv(\"C:\\Email-Spam-Detection_ds\\spam.csv\", encoding=\"latin-1\")[[\"v1\", \"v2\"]]\n",
    "data.columns = [\"label\", \"message\"]"
   ]
  },
  {
   "cell_type": "code",
   "execution_count": 7,
   "id": "16790f3e-b6ae-494e-9612-372c7e24ccc1",
   "metadata": {},
   "outputs": [],
   "source": [
    "# 2. Convert labels (ham = 0, spam = 1)\n",
    "data[\"label\"] = data[\"label\"].map({\"ham\": 0, \"spam\": 1})"
   ]
  },
  {
   "cell_type": "code",
   "execution_count": 8,
   "id": "ee57940b-937e-436a-8d5d-3a91268a261c",
   "metadata": {},
   "outputs": [],
   "source": [
    "# 3. Preprocess messages\n",
    "def clean_text(msg):\n",
    "    msg = msg.lower()      # lowercase\n",
    "    msg = msg.translate(str.maketrans(\"\", \"\", string.punctuation))  # remove punctuation\n",
    "    return msg\n",
    "\n",
    "data[\"message\"] = data[\"message\"].apply(clean_text)"
   ]
  },
  {
   "cell_type": "code",
   "execution_count": 9,
   "id": "92d9e44d-28e1-4bcf-b9a9-a8db010691d0",
   "metadata": {},
   "outputs": [],
   "source": [
    "# 🔹 3.1 Add custom Indian scam-style spam messages\n",
    "extra_spam = [\n",
    "    \"you won 10 lakh rupees\",\n",
    "    \"congratulations you won 1 crore lottery\",\n",
    "    \"claim your free prize of 25 lakh now\",\n",
    "    \"dear user you have won 50 lakh lottery\",\n",
    "    \"get 1 cr cashback instantly\",\n",
    "    \"lottery offer 10 lakh free entry\",\n",
    "    \"urgent call now to win 5 lakh\",\n",
    "    \"you have won 1 crore lucky draw\",\n",
    "    \"lottery\"\n",
    "]\n",
    "\n",
    "extra_data = pd.DataFrame({\n",
    "    \"label\": [1]*len(extra_spam),   # spam = 1\n",
    "    \"message\": [clean_text(msg) for msg in extra_spam]\n",
    "})\n",
    "\n",
    "# Append extra spam messages to dataset\n",
    "data = pd.concat([data, extra_data], ignore_index=True)"
   ]
  },
  {
   "cell_type": "code",
   "execution_count": 10,
   "id": "6776aaa2-b6ff-4db5-8109-6d160318c2d5",
   "metadata": {},
   "outputs": [],
   "source": [
    "# 4. Split into training and testing\n",
    "X_train, X_test, y_train, y_test = train_test_split(\n",
    "    data[\"message\"], data[\"label\"], test_size=0.2, random_state=42\n",
    ")"
   ]
  },
  {
   "cell_type": "code",
   "execution_count": 11,
   "id": "9f098bd7-962c-4b74-bebd-1451c8f3b3a0",
   "metadata": {},
   "outputs": [],
   "source": [
    "# 5. Vectorization (TF-IDF)\n",
    "vectorizer = TfidfVectorizer(stop_words=\"english\", max_features=3000, ngram_range=(1,2))\n",
    "X_train = vectorizer.fit_transform(X_train)\n",
    "X_test = vectorizer.transform(X_test)"
   ]
  },
  {
   "cell_type": "code",
   "execution_count": 12,
   "id": "39bfaed0-9aa5-4cd0-ad70-c5f0ce587c3d",
   "metadata": {},
   "outputs": [
    {
     "name": "stdout",
     "output_type": "stream",
     "text": [
      "✅ Model Accuracy: 0.9803043867502238\n"
     ]
    }
   ],
   "source": [
    "# 6. Train Logistic Regression (balanced)\n",
    "model = LogisticRegression(max_iter=200, class_weight=\"balanced\")\n",
    "model.fit(X_train, y_train)\n",
    "\n",
    "print(\"✅ Model Accuracy:\", accuracy_score(y_test, model.predict(X_test)))"
   ]
  },
  {
   "cell_type": "code",
   "execution_count": null,
   "id": "abb3f23f-d21d-4411-9aeb-721e0d49ec2b",
   "metadata": {},
   "outputs": [],
   "source": [
    "# 7. User input prediction with adjusted threshold + probability printing\n",
    "while True:\n",
    "    msg = input(\"\\nEnter a message (or type 'exit' to quit): \")\n",
    "    if msg.lower() == \"exit\":\n",
    "        print(\"👋 Exiting Spam Detector.\")\n",
    "        break\n",
    "    \n",
    "    msg_clean = clean_text(msg)\n",
    "    msg_vec = vectorizer.transform([msg_clean])\n",
    "    prob = model.predict_proba(msg_vec)[0][1]  # spam probability\n",
    "    \n",
    "    print(f\"📊 Spam Probability: {prob:.2f}\")  # Always show probability\n",
    "    \n",
    "    if prob > 0.35:   # lowered threshold\n",
    "        print(f\"Prediction: 🚨 Spam\")\n",
    "    else:\n",
    "        print(f\"Prediction: ✅ Not Spam\")"
   ]
  },
  {
   "cell_type": "code",
   "execution_count": null,
   "id": "2a52b1f4-fd9f-431e-98c8-a8db026dbd47",
   "metadata": {},
   "outputs": [],
   "source": []
  }
 ],
 "metadata": {
  "kernelspec": {
   "display_name": "Python 3",
   "language": "python",
   "name": "python3"
  },
  "language_info": {
   "codemirror_mode": {
    "name": "ipython",
    "version": 3
   },
   "file_extension": ".py",
   "mimetype": "text/x-python",
   "name": "python",
   "nbconvert_exporter": "python",
   "pygments_lexer": "ipython3",
   "version": "3.13.3"
  },
  "widgets": {
   "application/vnd.jupyter.widget-state+json": {
    "state": {},
    "version_major": 2,
    "version_minor": 0
   }
  }
 },
 "nbformat": 4,
 "nbformat_minor": 5
}
